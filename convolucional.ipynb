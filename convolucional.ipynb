{
 "cells": [
  {
   "cell_type": "markdown",
   "id": "ab96d9bc",
   "metadata": {},
   "source": [
    "### Álvaro Felipe"
   ]
  },
  {
   "cell_type": "markdown",
   "id": "c4735e36",
   "metadata": {},
   "source": [
    "La idea es usar una red convolucional ya entrenada para clasificar las imágenes, entrenaremos por tanto una red densa clasificadora, pero la visión por computador la realizará una CNN preentrenada. Vamos a hacer un flow from directory para cargar los datos de forma optima.\n",
    "\n",
    "Hemos usado una vgg16 preentrenada con imagenet para clasificar nuestras fotos. disponemos de 21179 fotos de animales, en total tenemos 10 clases. La red vgg necesita de entrada fotos de tamaño 224x224 por tanto, como nuestras fotos son de tamaño y dimensiones variables, reescalamos antes de pasar la entrada a la red. \n",
    "Nuestra red densa de clasificación consta de 4 capas densas y 1 de dropout para evitar overfitting, las 3 primeras capas densas utilizan relu para facilitar la propagación de gradiente, mientras que la ultima consta de 10 neuronas (1 por cada clase) y una función de activación softmax (propia para las clasificaciones multiclase).\n"
   ]
  },
  {
   "cell_type": "code",
   "execution_count": 1,
   "id": "35e2d7d1",
   "metadata": {},
   "outputs": [
    {
     "name": "stderr",
     "output_type": "stream",
     "text": [
      "c:\\Users\\alvar\\AppData\\Local\\Programs\\Python\\Python313\\Lib\\site-packages\\google\\protobuf\\runtime_version.py:98: UserWarning: Protobuf gencode version 5.28.3 is exactly one major version older than the runtime version 6.31.1 at tensorflow/core/framework/attr_value.proto. Please update the gencode to avoid compatibility violations in the next runtime release.\n",
      "  warnings.warn(\n",
      "c:\\Users\\alvar\\AppData\\Local\\Programs\\Python\\Python313\\Lib\\site-packages\\google\\protobuf\\runtime_version.py:98: UserWarning: Protobuf gencode version 5.28.3 is exactly one major version older than the runtime version 6.31.1 at tensorflow/core/framework/tensor.proto. Please update the gencode to avoid compatibility violations in the next runtime release.\n",
      "  warnings.warn(\n",
      "c:\\Users\\alvar\\AppData\\Local\\Programs\\Python\\Python313\\Lib\\site-packages\\google\\protobuf\\runtime_version.py:98: UserWarning: Protobuf gencode version 5.28.3 is exactly one major version older than the runtime version 6.31.1 at tensorflow/core/framework/resource_handle.proto. Please update the gencode to avoid compatibility violations in the next runtime release.\n",
      "  warnings.warn(\n",
      "c:\\Users\\alvar\\AppData\\Local\\Programs\\Python\\Python313\\Lib\\site-packages\\google\\protobuf\\runtime_version.py:98: UserWarning: Protobuf gencode version 5.28.3 is exactly one major version older than the runtime version 6.31.1 at tensorflow/core/framework/tensor_shape.proto. Please update the gencode to avoid compatibility violations in the next runtime release.\n",
      "  warnings.warn(\n",
      "c:\\Users\\alvar\\AppData\\Local\\Programs\\Python\\Python313\\Lib\\site-packages\\google\\protobuf\\runtime_version.py:98: UserWarning: Protobuf gencode version 5.28.3 is exactly one major version older than the runtime version 6.31.1 at tensorflow/core/framework/types.proto. Please update the gencode to avoid compatibility violations in the next runtime release.\n",
      "  warnings.warn(\n",
      "c:\\Users\\alvar\\AppData\\Local\\Programs\\Python\\Python313\\Lib\\site-packages\\google\\protobuf\\runtime_version.py:98: UserWarning: Protobuf gencode version 5.28.3 is exactly one major version older than the runtime version 6.31.1 at tensorflow/core/framework/full_type.proto. Please update the gencode to avoid compatibility violations in the next runtime release.\n",
      "  warnings.warn(\n",
      "c:\\Users\\alvar\\AppData\\Local\\Programs\\Python\\Python313\\Lib\\site-packages\\google\\protobuf\\runtime_version.py:98: UserWarning: Protobuf gencode version 5.28.3 is exactly one major version older than the runtime version 6.31.1 at tensorflow/core/framework/function.proto. Please update the gencode to avoid compatibility violations in the next runtime release.\n",
      "  warnings.warn(\n",
      "c:\\Users\\alvar\\AppData\\Local\\Programs\\Python\\Python313\\Lib\\site-packages\\google\\protobuf\\runtime_version.py:98: UserWarning: Protobuf gencode version 5.28.3 is exactly one major version older than the runtime version 6.31.1 at tensorflow/core/framework/node_def.proto. Please update the gencode to avoid compatibility violations in the next runtime release.\n",
      "  warnings.warn(\n",
      "c:\\Users\\alvar\\AppData\\Local\\Programs\\Python\\Python313\\Lib\\site-packages\\google\\protobuf\\runtime_version.py:98: UserWarning: Protobuf gencode version 5.28.3 is exactly one major version older than the runtime version 6.31.1 at tensorflow/core/framework/op_def.proto. Please update the gencode to avoid compatibility violations in the next runtime release.\n",
      "  warnings.warn(\n",
      "c:\\Users\\alvar\\AppData\\Local\\Programs\\Python\\Python313\\Lib\\site-packages\\google\\protobuf\\runtime_version.py:98: UserWarning: Protobuf gencode version 5.28.3 is exactly one major version older than the runtime version 6.31.1 at tensorflow/core/framework/graph.proto. Please update the gencode to avoid compatibility violations in the next runtime release.\n",
      "  warnings.warn(\n",
      "c:\\Users\\alvar\\AppData\\Local\\Programs\\Python\\Python313\\Lib\\site-packages\\google\\protobuf\\runtime_version.py:98: UserWarning: Protobuf gencode version 5.28.3 is exactly one major version older than the runtime version 6.31.1 at tensorflow/core/framework/graph_debug_info.proto. Please update the gencode to avoid compatibility violations in the next runtime release.\n",
      "  warnings.warn(\n",
      "c:\\Users\\alvar\\AppData\\Local\\Programs\\Python\\Python313\\Lib\\site-packages\\google\\protobuf\\runtime_version.py:98: UserWarning: Protobuf gencode version 5.28.3 is exactly one major version older than the runtime version 6.31.1 at tensorflow/core/framework/versions.proto. Please update the gencode to avoid compatibility violations in the next runtime release.\n",
      "  warnings.warn(\n",
      "c:\\Users\\alvar\\AppData\\Local\\Programs\\Python\\Python313\\Lib\\site-packages\\google\\protobuf\\runtime_version.py:98: UserWarning: Protobuf gencode version 5.28.3 is exactly one major version older than the runtime version 6.31.1 at tensorflow/core/protobuf/config.proto. Please update the gencode to avoid compatibility violations in the next runtime release.\n",
      "  warnings.warn(\n",
      "c:\\Users\\alvar\\AppData\\Local\\Programs\\Python\\Python313\\Lib\\site-packages\\google\\protobuf\\runtime_version.py:98: UserWarning: Protobuf gencode version 5.28.3 is exactly one major version older than the runtime version 6.31.1 at xla/tsl/protobuf/coordination_config.proto. Please update the gencode to avoid compatibility violations in the next runtime release.\n",
      "  warnings.warn(\n",
      "c:\\Users\\alvar\\AppData\\Local\\Programs\\Python\\Python313\\Lib\\site-packages\\google\\protobuf\\runtime_version.py:98: UserWarning: Protobuf gencode version 5.28.3 is exactly one major version older than the runtime version 6.31.1 at tensorflow/core/framework/cost_graph.proto. Please update the gencode to avoid compatibility violations in the next runtime release.\n",
      "  warnings.warn(\n",
      "c:\\Users\\alvar\\AppData\\Local\\Programs\\Python\\Python313\\Lib\\site-packages\\google\\protobuf\\runtime_version.py:98: UserWarning: Protobuf gencode version 5.28.3 is exactly one major version older than the runtime version 6.31.1 at tensorflow/core/framework/step_stats.proto. Please update the gencode to avoid compatibility violations in the next runtime release.\n",
      "  warnings.warn(\n",
      "c:\\Users\\alvar\\AppData\\Local\\Programs\\Python\\Python313\\Lib\\site-packages\\google\\protobuf\\runtime_version.py:98: UserWarning: Protobuf gencode version 5.28.3 is exactly one major version older than the runtime version 6.31.1 at tensorflow/core/framework/allocation_description.proto. Please update the gencode to avoid compatibility violations in the next runtime release.\n",
      "  warnings.warn(\n",
      "c:\\Users\\alvar\\AppData\\Local\\Programs\\Python\\Python313\\Lib\\site-packages\\google\\protobuf\\runtime_version.py:98: UserWarning: Protobuf gencode version 5.28.3 is exactly one major version older than the runtime version 6.31.1 at tensorflow/core/framework/tensor_description.proto. Please update the gencode to avoid compatibility violations in the next runtime release.\n",
      "  warnings.warn(\n",
      "c:\\Users\\alvar\\AppData\\Local\\Programs\\Python\\Python313\\Lib\\site-packages\\google\\protobuf\\runtime_version.py:98: UserWarning: Protobuf gencode version 5.28.3 is exactly one major version older than the runtime version 6.31.1 at tensorflow/core/protobuf/cluster.proto. Please update the gencode to avoid compatibility violations in the next runtime release.\n",
      "  warnings.warn(\n",
      "c:\\Users\\alvar\\AppData\\Local\\Programs\\Python\\Python313\\Lib\\site-packages\\google\\protobuf\\runtime_version.py:98: UserWarning: Protobuf gencode version 5.28.3 is exactly one major version older than the runtime version 6.31.1 at tensorflow/core/protobuf/debug.proto. Please update the gencode to avoid compatibility violations in the next runtime release.\n",
      "  warnings.warn(\n"
     ]
    }
   ],
   "source": [
    "from keras.applications import VGG16\n",
    "from keras.models import Sequential, load_model\n",
    "from keras.layers import Flatten, Dense, Dropout \n",
    "from tensorflow.keras.preprocessing.image import ImageDataGenerator\n",
    "from keras import optimizers\n",
    "import os"
   ]
  },
  {
   "cell_type": "markdown",
   "id": "1bd47212",
   "metadata": {},
   "source": [
    "### entrenar\n"
   ]
  },
  {
   "cell_type": "markdown",
   "id": "3b54ed86",
   "metadata": {},
   "source": [
    "Hemos creado 2 funciones de entrenamiento, una para el entrenamiento inicial y otra para cargar un modelo medio entrenado y refinarlo."
   ]
  },
  {
   "cell_type": "code",
   "execution_count": null,
   "id": "7e09b36f",
   "metadata": {},
   "outputs": [],
   "source": [
    "def entrenamiento(batch_size=20, epochs=20, num_samples=21.179):\n",
    "\n",
    "    train_data_dir = 'train_images/train_images' # carpeta train\n",
    "    tamano_entrada=(224,224)  #necesario para usar la vgg16\n",
    "\n",
    "    # VGG16 preentrenada que evitamos que entrene y quitamos las capas densas de predicción\n",
    "    base_model = VGG16(weights='imagenet', include_top=False,\n",
    "                       input_shape=(*tamano_entrada, 3))\n",
    "    base_model.trainable = False\n",
    "\n",
    "    # clasificador\n",
    "    model = Sequential()\n",
    "    model.add(base_model)\n",
    "    model.add(Flatten()) #para entrada a capas densas tiene q ser flatten\n",
    "    model.add(Dense(512, activation='relu'))\n",
    "    model.add(Dropout(0.4))\n",
    "    model.add(Dense(256, activation='relu'))\n",
    "    model.add(Dense(128, activation='relu'))\n",
    "    model.add(Dense(10, activation='softmax'))  # 10 clases\n",
    "\n",
    "    model.compile(loss='categorical_crossentropy',\n",
    "                  optimizer=optimizers.Adam(learning_rate=1e-4),\n",
    "                  metrics=['accuracy'])\n",
    "\n",
    "    # generadores de datos desde flow from dir\n",
    "    val_split=0.2\n",
    "    train_datagen = ImageDataGenerator(rescale=1. / 255,\n",
    "                                       validation_split=val_split)\n",
    "\n",
    "    train_generator = train_datagen.flow_from_directory(\n",
    "        train_data_dir,\n",
    "        target_size=tamano_entrada, \n",
    "        batch_size=batch_size,\n",
    "        class_mode='categorical',  \n",
    "        subset='training'            \n",
    "    )\n",
    "\n",
    "    validation_generator = train_datagen.flow_from_directory(\n",
    "        train_data_dir,\n",
    "        target_size=tamano_entrada,\n",
    "        batch_size=batch_size,\n",
    "        class_mode='categorical',\n",
    "        subset='validation'\n",
    "    )    \n",
    "\n",
    "    # entrenar\n",
    "    history = model.fit(\n",
    "        train_generator,\n",
    "        steps_per_epoch=num_samples*(1-val_split) // batch_size,\n",
    "        epochs=epochs,\n",
    "        validation_data=validation_generator,\n",
    "        validation_steps=num_samples*val_split // batch_size,\n",
    "        verbose=1\n",
    "    )\n",
    "\n",
    "    return history, model\n"
   ]
  },
  {
   "cell_type": "code",
   "execution_count": null,
   "id": "480ad0d4",
   "metadata": {},
   "outputs": [],
   "source": [
    " # primer entrernamiento \n",
    "history, model = entrenamiento(epochs=6)\n",
    "\n",
    "# --- Guardar modelo entrenado ---\n",
    "model_path = \"modelo_vgg16_1.h5\"\n",
    "model.save(model_path)\n",
    "print(f\"\\n Modelo guardado en: {os.path.abspath(model_path)}\")"
   ]
  },
  {
   "cell_type": "code",
   "execution_count": 2,
   "id": "8619d42e",
   "metadata": {},
   "outputs": [],
   "source": [
    "# definimos esta funcion para seguir entrenando un modelo importado\n",
    "def entrenamiento_precargado(batch_size=20, epochs=20, num_samples=21.179):\n",
    "\n",
    "    train_data_dir = 'train_images/train_images'\n",
    "    tamano_entrada=(224,224)  #necesario para usar la vgg16\n",
    "\n",
    "    model=load_model(\"modelo_vgg16_1.h5\")\n",
    "\n",
    "    model.compile(loss='categorical_crossentropy',\n",
    "                  optimizer=optimizers.Adam(learning_rate=1e-4),\n",
    "                  metrics=['accuracy'])\n",
    "\n",
    "    # generadores de datos desde flow from dir\n",
    "    val_split=0.2\n",
    "    train_datagen = ImageDataGenerator(rescale=1. / 255,\n",
    "                                       validation_split=val_split)\n",
    "\n",
    "    train_generator = train_datagen.flow_from_directory(\n",
    "        train_data_dir,\n",
    "        target_size=tamano_entrada, \n",
    "        batch_size=batch_size,\n",
    "        class_mode='categorical',  \n",
    "        subset='training'            \n",
    "    )\n",
    "\n",
    "    validation_generator = train_datagen.flow_from_directory(\n",
    "        train_data_dir,\n",
    "        target_size=tamano_entrada,\n",
    "        batch_size=batch_size,\n",
    "        class_mode='categorical',\n",
    "        subset='validation'\n",
    "    )    \n",
    "\n",
    "    # entrenar\n",
    "    history = model.fit(\n",
    "        train_generator,\n",
    "        steps_per_epoch=num_samples*(1-val_split) // batch_size,\n",
    "        epochs=epochs,\n",
    "        validation_data=validation_generator,\n",
    "        validation_steps=num_samples*val_split // batch_size,\n",
    "        verbose=1\n",
    "    )\n",
    "\n",
    "    return history, model\n"
   ]
  },
  {
   "cell_type": "code",
   "execution_count": null,
   "id": "7fe61488",
   "metadata": {},
   "outputs": [
    {
     "name": "stderr",
     "output_type": "stream",
     "text": [
      "WARNING:absl:Compiled the loaded model, but the compiled metrics have yet to be built. `model.compile_metrics` will be empty until you train or evaluate the model.\n"
     ]
    },
    {
     "name": "stdout",
     "output_type": "stream",
     "text": [
      "Found 16947 images belonging to 10 classes.\n",
      "Found 4232 images belonging to 10 classes.\n",
      "Epoch 1/4\n"
     ]
    },
    {
     "name": "stderr",
     "output_type": "stream",
     "text": [
      "c:\\Users\\alvar\\AppData\\Local\\Programs\\Python\\Python313\\Lib\\site-packages\\keras\\src\\trainers\\data_adapters\\py_dataset_adapter.py:121: UserWarning: Your `PyDataset` class should call `super().__init__(**kwargs)` in its constructor. `**kwargs` can include `workers`, `use_multiprocessing`, `max_queue_size`. Do not pass these arguments to `fit()`, as they will be ignored.\n",
      "  self._warn_if_super_not_called()\n"
     ]
    },
    {
     "name": "stdout",
     "output_type": "stream",
     "text": [
      "\u001b[1m848/848\u001b[0m \u001b[32m━━━━━━━━━━━━━━━━━━━━\u001b[0m\u001b[37m\u001b[0m \u001b[1m1122s\u001b[0m 1s/step - accuracy: 0.9372 - loss: 0.1769 - val_accuracy: 0.8698 - val_loss: 0.4291\n",
      "Epoch 2/4\n",
      "\u001b[1m848/848\u001b[0m \u001b[32m━━━━━━━━━━━━━━━━━━━━\u001b[0m\u001b[37m\u001b[0m \u001b[1m1115s\u001b[0m 1s/step - accuracy: 0.9545 - loss: 0.1343 - val_accuracy: 0.8691 - val_loss: 0.4911\n",
      "Epoch 3/4\n",
      "\u001b[1m848/848\u001b[0m \u001b[32m━━━━━━━━━━━━━━━━━━━━\u001b[0m\u001b[37m\u001b[0m \u001b[1m1167s\u001b[0m 1s/step - accuracy: 0.9587 - loss: 0.1200 - val_accuracy: 0.8634 - val_loss: 0.4933\n",
      "Epoch 4/4\n",
      "\u001b[1m653/848\u001b[0m \u001b[32m━━━━━━━━━━━━━━━\u001b[0m\u001b[37m━━━━━\u001b[0m \u001b[1m3:30\u001b[0m 1s/step - accuracy: 0.9715 - loss: 0.0897"
     ]
    }
   ],
   "source": [
    "# segundo entrenamiento\n",
    "history, model = entrenamiento_precargado(epochs=4)\n",
    "\n",
    "# --- Guardar modelo entrenado ---\n",
    "model_path = \"modelo_vgg16_2.h5\"\n",
    "model.save(model_path)\n",
    "print(f\"\\n Modelo guardado en: {os.path.abspath(model_path)}\")"
   ]
  },
  {
   "cell_type": "markdown",
   "id": "5c16ead9",
   "metadata": {},
   "source": [
    "### predecir"
   ]
  },
  {
   "cell_type": "code",
   "execution_count": null,
   "id": "906ba643",
   "metadata": {},
   "outputs": [],
   "source": [
    "# mapeo de clases a sus respectivos nombres (realizado a mano porque se me olvidó guardar las clases antes de entrenar la primera vez).\n",
    "labels = {\n",
    "    0: \"cane\",\n",
    "    1: \"cavallo\",\n",
    "    2: \"elefante\",\n",
    "    3: \"farfalla\",\n",
    "    4: \"gallina\",\n",
    "    5: \"gatto\",\n",
    "    6: \"mucca\",\n",
    "    7: \"pecora\",\n",
    "    8: \"ragno\",\n",
    "    9: \"scoiattolo\"\n",
    "}"
   ]
  },
  {
   "cell_type": "code",
   "execution_count": null,
   "id": "ce54529d",
   "metadata": {},
   "outputs": [],
   "source": [
    "import pandas as pd\n",
    "import numpy as np\n",
    "def predecir_test(model_path, batch_size=20):\n",
    "\n",
    "    model = load_model(model_path)\n",
    "\n",
    "    # Generador para test \n",
    "    test_datagen = ImageDataGenerator(rescale=1./255)\n",
    "    test_data_dir = \"test_images/test_images\"\n",
    "    tamano_entrada=(224,224)  #necesario para usar la vgg16\n",
    "\n",
    "    test_generator = test_datagen.flow_from_directory(\n",
    "        test_data_dir,\n",
    "        target_size=tamano_entrada,\n",
    "        batch_size=batch_size,\n",
    "        class_mode=None,\n",
    "        shuffle=False      # mantener orden para construir el csv\n",
    "    )\n",
    "\n",
    "    # Predicciones\n",
    "    preds = model.predict(test_generator, verbose=1)\n",
    "    clases_pred = np.argmax(preds, axis=1)\n",
    "    results = pd.DataFrame({\n",
    "        \"id\": [os.path.basename(fname) for fname in test_generator.filenames],\n",
    "        \"category\": [labels[idx] for idx in clases_pred]\n",
    "    })\n",
    "\n",
    "    return results\n"
   ]
  },
  {
   "cell_type": "code",
   "execution_count": 20,
   "id": "79a25a3e",
   "metadata": {},
   "outputs": [
    {
     "name": "stderr",
     "output_type": "stream",
     "text": [
      "WARNING:absl:Compiled the loaded model, but the compiled metrics have yet to be built. `model.compile_metrics` will be empty until you train or evaluate the model.\n"
     ]
    },
    {
     "name": "stdout",
     "output_type": "stream",
     "text": [
      "Found 5000 images belonging to 1 classes.\n"
     ]
    },
    {
     "name": "stderr",
     "output_type": "stream",
     "text": [
      "c:\\Users\\alvar\\AppData\\Local\\Programs\\Python\\Python313\\Lib\\site-packages\\keras\\src\\trainers\\data_adapters\\py_dataset_adapter.py:121: UserWarning: Your `PyDataset` class should call `super().__init__(**kwargs)` in its constructor. `**kwargs` can include `workers`, `use_multiprocessing`, `max_queue_size`. Do not pass these arguments to `fit()`, as they will be ignored.\n",
      "  self._warn_if_super_not_called()\n"
     ]
    },
    {
     "name": "stdout",
     "output_type": "stream",
     "text": [
      "\u001b[1m250/250\u001b[0m \u001b[32m━━━━━━━━━━━━━━━━━━━━\u001b[0m\u001b[37m\u001b[0m \u001b[1m1190s\u001b[0m 5s/step\n"
     ]
    },
    {
     "data": {
      "text/html": [
       "<div>\n",
       "<style scoped>\n",
       "    .dataframe tbody tr th:only-of-type {\n",
       "        vertical-align: middle;\n",
       "    }\n",
       "\n",
       "    .dataframe tbody tr th {\n",
       "        vertical-align: top;\n",
       "    }\n",
       "\n",
       "    .dataframe thead th {\n",
       "        text-align: right;\n",
       "    }\n",
       "</style>\n",
       "<table border=\"1\" class=\"dataframe\">\n",
       "  <thead>\n",
       "    <tr style=\"text-align: right;\">\n",
       "      <th></th>\n",
       "      <th>id</th>\n",
       "      <th>category</th>\n",
       "    </tr>\n",
       "  </thead>\n",
       "  <tbody>\n",
       "    <tr>\n",
       "      <th>0</th>\n",
       "      <td>0.jpeg</td>\n",
       "      <td>scoiattolo</td>\n",
       "    </tr>\n",
       "    <tr>\n",
       "      <th>1</th>\n",
       "      <td>1.jpeg</td>\n",
       "      <td>cavallo</td>\n",
       "    </tr>\n",
       "    <tr>\n",
       "      <th>2</th>\n",
       "      <td>10.jpeg</td>\n",
       "      <td>scoiattolo</td>\n",
       "    </tr>\n",
       "    <tr>\n",
       "      <th>3</th>\n",
       "      <td>100.jpeg</td>\n",
       "      <td>pecora</td>\n",
       "    </tr>\n",
       "    <tr>\n",
       "      <th>4</th>\n",
       "      <td>1000.jpeg</td>\n",
       "      <td>cavallo</td>\n",
       "    </tr>\n",
       "    <tr>\n",
       "      <th>...</th>\n",
       "      <td>...</td>\n",
       "      <td>...</td>\n",
       "    </tr>\n",
       "    <tr>\n",
       "      <th>4995</th>\n",
       "      <td>995.jpeg</td>\n",
       "      <td>cavallo</td>\n",
       "    </tr>\n",
       "    <tr>\n",
       "      <th>4996</th>\n",
       "      <td>996.jpeg</td>\n",
       "      <td>mucca</td>\n",
       "    </tr>\n",
       "    <tr>\n",
       "      <th>4997</th>\n",
       "      <td>997.jpeg</td>\n",
       "      <td>cane</td>\n",
       "    </tr>\n",
       "    <tr>\n",
       "      <th>4998</th>\n",
       "      <td>998.jpeg</td>\n",
       "      <td>ragno</td>\n",
       "    </tr>\n",
       "    <tr>\n",
       "      <th>4999</th>\n",
       "      <td>999.jpeg</td>\n",
       "      <td>scoiattolo</td>\n",
       "    </tr>\n",
       "  </tbody>\n",
       "</table>\n",
       "<p>5000 rows × 2 columns</p>\n",
       "</div>"
      ],
      "text/plain": [
       "             id    category\n",
       "0        0.jpeg  scoiattolo\n",
       "1        1.jpeg     cavallo\n",
       "2       10.jpeg  scoiattolo\n",
       "3      100.jpeg      pecora\n",
       "4     1000.jpeg     cavallo\n",
       "...         ...         ...\n",
       "4995   995.jpeg     cavallo\n",
       "4996   996.jpeg       mucca\n",
       "4997   997.jpeg        cane\n",
       "4998   998.jpeg       ragno\n",
       "4999   999.jpeg  scoiattolo\n",
       "\n",
       "[5000 rows x 2 columns]"
      ]
     },
     "execution_count": 20,
     "metadata": {},
     "output_type": "execute_result"
    }
   ],
   "source": [
    "df_preds = predecir_test(\"modelo_vgg16_1.h5\")\n",
    "df_preds\n"
   ]
  },
  {
   "cell_type": "code",
   "execution_count": 21,
   "id": "adf4d211",
   "metadata": {},
   "outputs": [],
   "source": [
    "# Guardar \n",
    "df_preds.to_csv(\"predicciones_1.csv\", index=False)"
   ]
  }
 ],
 "metadata": {
  "kernelspec": {
   "display_name": "Python 3",
   "language": "python",
   "name": "python3"
  },
  "language_info": {
   "codemirror_mode": {
    "name": "ipython",
    "version": 3
   },
   "file_extension": ".py",
   "mimetype": "text/x-python",
   "name": "python",
   "nbconvert_exporter": "python",
   "pygments_lexer": "ipython3",
   "version": "3.13.2"
  }
 },
 "nbformat": 4,
 "nbformat_minor": 5
}
